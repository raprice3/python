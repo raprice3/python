{
 "cells": [
  {
   "cell_type": "markdown",
   "metadata": {},
   "source": [
    "# Introduction to Python and Jupyter Notebooks\n",
    "\n",
    "Written by Richard Price on February 3, 2022, updated February 11, 2023\n",
    "\n",
    "## 1. Introduction\n",
    "\n",
    "Welcome to programming and learning how to conduct data and statistical analysis in Python!  The purpose of these tutorials is to introduce you to Python programming in the Jupyter Notebook environment and teach practical skills to allow you to import, manipulate and analyze data and effectively communicate the results of your analysis.  The sample code in these tutorials can be adapted in other settings, and you will find a wealth of information online.\n",
    "\n",
    "For many, computer programming is unfamiliar and intimidating.  It is my belief that developing an understanding of basic programming concepts and actually doing some programming will make you a more capable employoee, give you confidence, and make you stand out from your peers.  I don't expect you will become an expert, but you may be surprised how quickly you can learn and do powerful things in Python. Most of what we will learn can be done in Excel and other software that doesn't require much programming knowledge, but you will see that some tasks are better suited to a programming environment that can handle datasets and conduct analysis that is not possible in Excel.  Other tasks, while possible to complete in Excel, are very inefficient.  If you find yourself repeating tasks, there may be a solution in Python.\n",
    "\n",
    "You may find that jumping back and forth between programs is the most practical way to use Python.  You may do some data manipulations in Excel and then import that data in Python for further analysis.  A powerful aspect of Python is the ability to quickly and efficiently repeat analysis for different time periods or samples.\n",
    "\n",
    "I hope you will enjoy being introduced to Python.  If you find you enjoy it, additional work on your own part will give you additional skills and proficiency.  The key to remembering what you learn is to continue to apply it.  Python is one of many possible software packages that can conduct data analysis.  \n",
    "\n",
    "### Learning Objectives\n",
    "\n",
    "1.  Install Anaconda and use Jupyter Notebook to run Python code\n",
    "1.  Use comments to provide documentation in code\n",
    "1.  Understand basic math functions in Python\n",
    "1.  Create and use variables to store information\n",
    "1.  Understand the following data types: `str`, `int`, `float`\n",
    "1.  Use the `type` function to determine the type of a variable, and the `str()`, `int()`, and `float()` functions to cast variables to another type\n",
    "1.  Understand lists and dictionaries, especially the similarities and differences between them\n",
    "1.  Understand how `for` loops and `if-else` statements can be used.\n",
    "1.  Understand how markdown can be used to format text in a notebook"
   ]
  },
  {
   "cell_type": "markdown",
   "metadata": {},
   "source": [
    "## 2. Python\n",
    "Python is a popular and powerful programming language that we will be using to clean, merge, and analyze data.  Python has a much broader use in software development, but our focus is on data analysis.  A major strength of Python is the size of the user community.  Python is open source software, meaning it is free to use.  Many packages have been written and are freely shared.  The capabilities of Python are on par with expensive proprietary software.  \n",
    "\n",
    "Python is widely used in practice, including in public accounting.  If you become familiar with Python, you could use it similar to how you use Excel, with a distinct advantage in its ability to analyze very large datasets quickly and efficiently and perform complex operations on the data.  There is a learning curve, and it requires you to learn some computer programming.  Some may find this intimidating, which is natural.  \n",
    "\n",
    "As we proceed, it is my objective that you understand the process of obtaining, cleaning, merging, analyzing, and interpreting data.  The process is the same regardless of the specific software package or programming language you use, though the syntax and tools will differ.  Gaining experience in any language or software package will make you a better decision maker and a better communicator, and it will make it easier for you to learn other software or programming languages.  You will understand the process of data analytics and will be able to better communicate with those actually doing the programming and can have reasonable expecations as to what can be done.  If you continue to use Python, you will become more comfortable and capable using it and it will benefit you in your career."
   ]
  },
  {
   "cell_type": "markdown",
   "metadata": {},
   "source": [
    "### Installing Python\n",
    "\n",
    "There are several different ways to install and interact with Python.  We will be using Anaconda, which is a powerful and popular data science platform.  You can download and install the 64 bit version of Anaconda at https://www.anaconda.com/ on any operating system.  __Go ahead and download and install the individual edition of Anaconda.__  [Here is a link to a tutorial with indstructions for installing Anaconda on Windows and Mac computers.](https://docs.google.com/document/d/1cts9AiX2IgX4Or3JRawud7zdIwp_oEKp6pujCcAYBCQ/edit?usp=sharing)"
   ]
  },
  {
   "cell_type": "markdown",
   "metadata": {},
   "source": [
    "## 3. Jupyter Notebooks\n",
    "\n",
    "This is a Jupyter Notebook, which is program that provides a way to interact with many different programming languages.  It was developed specifically for the following languages: <u>Ju</u>lia, <u>Pyt</u>hon, and <u>R</u>, and the name Ju-Pyt-R comes from those three languages.  We will be using Jupyter Notebook to interact with Python.  It is most commonly used on a web browser.\n",
    "\n",
    "Jupyter notebooks are organized as a series of cells that hold one of the following types of data:\n",
    "\n",
    " - __markdown__, which is text written to document what you are doing.  What you're reading right now is markdown.\n",
    " - __code__, which you can run to generate output and complete tasks\n",
    " - __raw__ format (which has no formatting and is not interpreted as code, but appears formatted as code, infrequently used, could be helpful as a way to comment out or deactivate code cells)\n",
    "\n",
    "Jupyter Notebooks are an efficient way to record your work as you can include annotations, code, and output all in the same document.  It is easy to share reports, code, and data to others who may want to review your work, or be able to easily replicate or extend any analysis you have done."
   ]
  },
  {
   "cell_type": "markdown",
   "metadata": {},
   "source": [
    "### Using Jupyter Notebooks\n",
    "Using a Jupyter Notebook is fairly intuitive.  If you want to edit a cell, the enter key will place the cursor in the cell (and change the color from blue to green indicating you are editing).  If you want to navigate to a different cell, the escape key will remove the cursor and turn the cell color back to blue, and you can navigate to different cells using the up and down arrows, or using the keys \"j\" to go down a cell and \"k\" to go up a cell (which are also shortcuts to navigate messages in Gmail).  \n",
    "\n",
    "\n",
    "#### Shortcut Keys in Jupyter Notebook\n",
    "\n",
    "There are many keyboard shortcuts that make navigating and writing efficient.  Here are a few key shortcuts:\n",
    "\n",
    "\n",
    " - `enter` when cell is selected (blue) in command mode, enter cell to edit (will turn green)\n",
    " - `esc` when cell is in edit mode (green), exit to select mode (will turn from green to blue)\n",
    " - `shift + enter` run cell, select cell below\n",
    " - `ctrl + enter` run cell, keep current cell selected\n",
    " - `alt + enter` run cell, insert new cell below\n",
    " - `a` insert cell above\n",
    " - `b` insert cell below\n",
    " - `d d` delete cell\n",
    " - `c` copy cell\n",
    " - `v` paste cell\n",
    " - `shift + m` merge selected cells, or current cell with cell below if only one cell selected  \n",
    "\n",
    "To see other keyboard shortcuts, you can go to the Help menu and select Keyboard Shortcuts, or you can type `h` if the cell is in command mode (blue), otherwise you are editing a cell and you will simply enter the letter h."
   ]
  },
  {
   "cell_type": "markdown",
   "metadata": {},
   "source": [
    "## 4. Python Programming with Jupyter Notebooks\n"
   ]
  },
  {
   "cell_type": "markdown",
   "metadata": {},
   "source": [
    "### 4.1 Documenting your Code with Comments\n",
    "\n",
    "It is important to document your work.  Jupyter Notebook makes it easy using markdown cells (the formatted cells in this notebook preceding this cell), which are used for documentation of analysis and presentation of results.  You will also want to include documentation along with your code using comments.  Comments are ignored by the interpreter and have the sole purpose of informing the reader (which may be future you wondering what the old you was thinking). Comments are added using a hashtag at the beginning of a line.\n",
    "\n",
    "The next cell is a code cell, which is formatted differently with fixed-width font, which is standard in computer programming.  Your code cells will hold your code statements but along with any comments you include.  To execute the code in a cell, you have the following options:\n",
    "- type `control+enter` to run the selected cell and remain in tat cell (on a Mac it is `command+enter`)\n",
    "- type `shift+enter` to run the selected sell and move to the next cell\n",
    "- click the `Run` button at the top of the page\n",
    "- Go to the `Cell` menu and select other options (Run All, Rull All Above, Run All Below, etc.)"
   ]
  },
  {
   "cell_type": "code",
   "execution_count": 1,
   "metadata": {},
   "outputs": [
    {
     "name": "stdout",
     "output_type": "stream",
     "text": [
      "Hello World!\n"
     ]
    }
   ],
   "source": [
    "# NOTE: \n",
    "# The hashtag allows you to write a comment -- it is ignored by the program\n",
    "# but is essential in documenting what a program does\n",
    "\n",
    "# The traditional first programming statement one learns is something like the following:\n",
    "print('Hello World!')"
   ]
  },
  {
   "cell_type": "markdown",
   "metadata": {},
   "source": [
    "### 4.2 Mathematical Operators\n",
    "\n",
    "Python can function as a calculator and uses typical mathematical operators and follows conventional assumptions."
   ]
  },
  {
   "cell_type": "code",
   "execution_count": 1,
   "metadata": {},
   "outputs": [
    {
     "data": {
      "text/plain": [
       "60"
      ]
     },
     "execution_count": 1,
     "metadata": {},
     "output_type": "execute_result"
    }
   ],
   "source": [
    "# Addition\n",
    "4+56"
   ]
  },
  {
   "cell_type": "code",
   "execution_count": 2,
   "metadata": {},
   "outputs": [
    {
     "data": {
      "text/plain": [
       "6.666666666666667"
      ]
     },
     "execution_count": 2,
     "metadata": {},
     "output_type": "execute_result"
    }
   ],
   "source": [
    "# Division\n",
    "20/3"
   ]
  },
  {
   "cell_type": "code",
   "execution_count": 3,
   "metadata": {},
   "outputs": [
    {
     "data": {
      "text/plain": [
       "9834496"
      ]
     },
     "execution_count": 3,
     "metadata": {},
     "output_type": "execute_result"
    }
   ],
   "source": [
    "# Exponentiation\n",
    "# Note that to do an exponent, you need to use **, not ^\n",
    "56**4"
   ]
  },
  {
   "cell_type": "code",
   "execution_count": 4,
   "metadata": {},
   "outputs": [
    {
     "data": {
      "text/plain": [
       "224"
      ]
     },
     "execution_count": 4,
     "metadata": {},
     "output_type": "execute_result"
    }
   ],
   "source": [
    "# Multiplication\n",
    "56*4 "
   ]
  },
  {
   "cell_type": "code",
   "execution_count": 5,
   "metadata": {},
   "outputs": [
    {
     "data": {
      "text/plain": [
       "460.0"
      ]
     },
     "execution_count": 5,
     "metadata": {},
     "output_type": "execute_result"
    }
   ],
   "source": [
    "# Python follows normal order of operation rules\n",
    "500-4*20/2"
   ]
  },
  {
   "cell_type": "code",
   "execution_count": 6,
   "metadata": {},
   "outputs": [
    {
     "data": {
      "text/plain": [
       "460.0"
      ]
     },
     "execution_count": 6,
     "metadata": {},
     "output_type": "execute_result"
    }
   ],
   "source": [
    "# We can use parentheses to specify the order of operations (and to make code clearer)\n",
    "500-((4*20)/2)"
   ]
  },
  {
   "cell_type": "code",
   "execution_count": 7,
   "metadata": {
    "scrolled": true
   },
   "outputs": [
    {
     "data": {
      "text/plain": [
       "210.0"
      ]
     },
     "execution_count": 7,
     "metadata": {},
     "output_type": "execute_result"
    }
   ],
   "source": [
    "# changing order of operations using partentheses\n",
    "(500-(4*20))/2"
   ]
  },
  {
   "cell_type": "markdown",
   "metadata": {},
   "source": [
    "#### Other less common operators\n",
    "There are other operators that are sometimes useful when programming such as:\n",
    "- `%`: the modulus operator, gives the remainder of a division operation\n",
    "- `//`: the floor operator, removes decimal portion of a number leaving only an integer\n",
    "- `ceil`: the ceil function (or ceiling) takes any number and returns the next integer greater than or equal to it\n",
    "\n",
    "There are others, this just gives a sense of some."
   ]
  },
  {
   "cell_type": "code",
   "execution_count": 8,
   "metadata": {},
   "outputs": [
    {
     "data": {
      "text/plain": [
       "2"
      ]
     },
     "execution_count": 8,
     "metadata": {},
     "output_type": "execute_result"
    }
   ],
   "source": [
    "# Modulus division -- gives remainder of an operation 20/3 = 6 remainder 2\n",
    "20%3"
   ]
  },
  {
   "cell_type": "code",
   "execution_count": 9,
   "metadata": {},
   "outputs": [
    {
     "data": {
      "text/plain": [
       "6"
      ]
     },
     "execution_count": 9,
     "metadata": {},
     "output_type": "execute_result"
    }
   ],
   "source": [
    "# Floor division -- gets rid of decimal portion keeping only the integer\n",
    "20//3"
   ]
  },
  {
   "cell_type": "code",
   "execution_count": 10,
   "metadata": {},
   "outputs": [
    {
     "data": {
      "text/plain": [
       "6"
      ]
     },
     "execution_count": 10,
     "metadata": {},
     "output_type": "execute_result"
    }
   ],
   "source": [
    "# We can use the floor method (like a function) from the math module, which needs to be imported.\n",
    "import math\n",
    "math.floor(20/3)"
   ]
  },
  {
   "cell_type": "code",
   "execution_count": 11,
   "metadata": {},
   "outputs": [
    {
     "data": {
      "text/plain": [
       "7"
      ]
     },
     "execution_count": 11,
     "metadata": {},
     "output_type": "execute_result"
    }
   ],
   "source": [
    "# The ceil method from the math module\n",
    "math.ceil(20/3)"
   ]
  },
  {
   "cell_type": "markdown",
   "metadata": {},
   "source": [
    "### 4.3 Variables\n",
    "We can use variables to store values.  This allows very flexible code.  Variable names must be alphanumeric characters and can include an underscore `_`.  Variable names must begin with a letter or underscore.  Variable names are case sensitive."
   ]
  },
  {
   "cell_type": "code",
   "execution_count": 13,
   "metadata": {},
   "outputs": [
    {
     "data": {
      "text/plain": [
       "60"
      ]
     },
     "execution_count": 13,
     "metadata": {},
     "output_type": "execute_result"
    }
   ],
   "source": [
    "x=4\n",
    "y=56\n",
    "z=x+y\n",
    "\n",
    "# If we want to view the content of a variable, we can type the name of the variable we want printed\n",
    "z"
   ]
  },
  {
   "cell_type": "code",
   "execution_count": 14,
   "metadata": {
    "scrolled": true
   },
   "outputs": [
    {
     "name": "stdout",
     "output_type": "stream",
     "text": [
      "60\n"
     ]
    }
   ],
   "source": [
    "# Or we can use the print function\n",
    "print(z)"
   ]
  },
  {
   "cell_type": "markdown",
   "metadata": {},
   "source": [
    "### 4.4 Multiple lines of output in Jupyter Notebook\n",
    "\n",
    "In some cases, we want multiple lines of output.  To do this, we can use the print command.  If we submit a mathematical operation or the name of a variable, it will be printed in the output, but if we enter two, Jupyter Notebook will only display the last by default."
   ]
  },
  {
   "cell_type": "code",
   "execution_count": 15,
   "metadata": {},
   "outputs": [
    {
     "data": {
      "text/plain": [
       "60"
      ]
     },
     "execution_count": 15,
     "metadata": {},
     "output_type": "execute_result"
    }
   ],
   "source": [
    "# Only z will be displayed in the output\n",
    "x\n",
    "y\n",
    "z"
   ]
  },
  {
   "cell_type": "code",
   "execution_count": 15,
   "metadata": {
    "scrolled": true
   },
   "outputs": [
    {
     "name": "stdout",
     "output_type": "stream",
     "text": [
      "The value of x is: 4\n",
      "The value of y is: 56\n",
      "The value of x+y is z, which equals: 60\n"
     ]
    }
   ],
   "source": [
    "# With the print function we can include other text along with stored variables, with each value separated by a comma\n",
    "# We can print several lines of output at once\n",
    "print('The value of x is:', x)\n",
    "print('The value of y is:', y)\n",
    "print('The value of x+y is z, which equals:', z)"
   ]
  },
  {
   "cell_type": "markdown",
   "metadata": {},
   "source": [
    "### 4.5 Data Types\n",
    "Python has many data types.  Numeric data is stored as an `int` (integer) or a `float` (decimal).  Text is stored as a `str` (string).  We can verify the data type using the `type()` function."
   ]
  },
  {
   "cell_type": "code",
   "execution_count": 16,
   "metadata": {
    "scrolled": true
   },
   "outputs": [
    {
     "name": "stdout",
     "output_type": "stream",
     "text": [
      "the value of x is: 4\n",
      "the type of x is: <class 'int'>\n"
     ]
    }
   ],
   "source": [
    "print('the value of x is:', x)\n",
    "print('the type of x is:', type(x))"
   ]
  },
  {
   "cell_type": "code",
   "execution_count": 17,
   "metadata": {
    "scrolled": true
   },
   "outputs": [
    {
     "name": "stdout",
     "output_type": "stream",
     "text": [
      "the value of x is: 4\n",
      "the value of y is: 56\n",
      "the value of z2 is: 14.0\n",
      "the type of z2 is: <class 'float'>\n"
     ]
    }
   ],
   "source": [
    "# When we divide, the result is a float data type (even if it has no decimal portion)\n",
    "# (You will see it puts a decimal even if it is a whole number)\n",
    "z2=y/x\n",
    "print('the value of x is:', x)\n",
    "print('the value of y is:', y)\n",
    "print('the value of z2 is:', z2)\n",
    "print('the type of z2 is:', type(z2))"
   ]
  },
  {
   "cell_type": "code",
   "execution_count": 18,
   "metadata": {},
   "outputs": [
    {
     "name": "stdout",
     "output_type": "stream",
     "text": [
      "the value of stored_text is: We can do math in Python.\n",
      "the type of stored_text is: <class 'str'>\n"
     ]
    }
   ],
   "source": [
    "# We can store text in variables also\n",
    "\n",
    "stored_text = 'We can do math in Python.'\n",
    "print('the value of stored_text is:', stored_text)\n",
    "print('the type of stored_text is:', type(stored_text))"
   ]
  },
  {
   "cell_type": "code",
   "execution_count": 20,
   "metadata": {
    "scrolled": true
   },
   "outputs": [
    {
     "name": "stdout",
     "output_type": "stream",
     "text": [
      "The value of five_as_test is: 5\n",
      "If we try to use this variable in a mathematical operation, we get an error message because it is stored as text.\n"
     ]
    },
    {
     "ename": "TypeError",
     "evalue": "can only concatenate str (not \"int\") to str",
     "output_type": "error",
     "traceback": [
      "\u001b[1;31m---------------------------------------------------------------------------\u001b[0m",
      "\u001b[1;31mTypeError\u001b[0m                                 Traceback (most recent call last)",
      "Input \u001b[1;32mIn [20]\u001b[0m, in \u001b[0;36m<cell line: 10>\u001b[1;34m()\u001b[0m\n\u001b[0;32m      7\u001b[0m \u001b[38;5;66;03m# If we store numbers as text, they are not interpreted as numbers\u001b[39;00m\n\u001b[0;32m      8\u001b[0m \u001b[38;5;66;03m# The following gives an error message in Python\u001b[39;00m\n\u001b[0;32m      9\u001b[0m \u001b[38;5;28mprint\u001b[39m(\u001b[38;5;124m\"\u001b[39m\u001b[38;5;124mIf we try to use this variable in a mathematical operation, we get an error message because it is stored as text.\u001b[39m\u001b[38;5;124m\"\u001b[39m)\n\u001b[1;32m---> 10\u001b[0m \u001b[43mfive_as_text\u001b[49m\u001b[38;5;241;43m+\u001b[39;49m\u001b[38;5;241;43m10\u001b[39;49m\n",
      "\u001b[1;31mTypeError\u001b[0m: can only concatenate str (not \"int\") to str"
     ]
    }
   ],
   "source": [
    "# One strange thing is that a number can be stored as a string, and when stored as a string cannot\n",
    "# be used in a mathematical operation.  The string \"5\" is not the same as the number 5.\n",
    "five_as_text=\"5\"\n",
    "\n",
    "print(\"The value of five_as_test is:\", five_as_text)\n",
    "\n",
    "# If we store numbers as text, they are not interpreted as numbers\n",
    "# The following gives an error message in Python\n",
    "print(\"If we try to use this variable in a mathematical operation, we get an error message because it is stored as text.\")\n",
    "five_as_text+10"
   ]
  },
  {
   "cell_type": "code",
   "execution_count": 21,
   "metadata": {},
   "outputs": [
    {
     "name": "stdout",
     "output_type": "stream",
     "text": [
      "After 'casting' the variable five_as_text as an integer, it can be used in mathematical operations.\n"
     ]
    },
    {
     "data": {
      "text/plain": [
       "15"
      ]
     },
     "execution_count": 21,
     "metadata": {},
     "output_type": "execute_result"
    }
   ],
   "source": [
    "# We can \"cast\" one variable type as another using functions\n",
    "# If we use the int function, we can cast this variable as a number and use it in an operation\n",
    "print(\"After 'casting' the variable five_as_text as an integer, it can be used in mathematical operations.\")\n",
    "int(five_as_text)+10"
   ]
  },
  {
   "cell_type": "code",
   "execution_count": 22,
   "metadata": {
    "scrolled": true
   },
   "outputs": [
    {
     "name": "stdout",
     "output_type": "stream",
     "text": [
      "Here we concatenate the variable 'stored_text' with some other text:\n"
     ]
    },
    {
     "data": {
      "text/plain": [
       "'We can do math in Python. We can do Statistics in Python too.'"
      ]
     },
     "execution_count": 22,
     "metadata": {},
     "output_type": "execute_result"
    }
   ],
   "source": [
    "# Some operators can be used on strings.  \n",
    "# The + operator concatenates strings\n",
    "\n",
    "print(\"Here we concatenate the variable 'stored_text' with some other text:\")\n",
    "stored_text+\" We can do Statistics in Python too.\""
   ]
  },
  {
   "cell_type": "code",
   "execution_count": 23,
   "metadata": {
    "scrolled": true
   },
   "outputs": [
    {
     "data": {
      "text/plain": [
       "'We can do math in Python.We can do math in Python.We can do math in Python.We can do math in Python.We can do math in Python.'"
      ]
     },
     "execution_count": 23,
     "metadata": {},
     "output_type": "execute_result"
    }
   ],
   "source": [
    "# We can use * to repeat a string.  The * operator used on a string is the repetition operator.\n",
    "stored_text*5"
   ]
  },
  {
   "cell_type": "markdown",
   "metadata": {},
   "source": [
    "### 4.6 More Complex Structures: Lists and Dictionaries\n",
    "\n",
    "#### Lists\n",
    "\n",
    "Above, we use variables to store information.  An integer or float variable stores a single piece of information, for example the number `5`.  A string variable can store text.  Often we need to store a list of data.  Python can store a list of values, indexed by an integer indicating the position.\n",
    "\n",
    "For example, we may want to store the integers 1 to 10 in a list, as shown below.\n",
    "\n",
    "| List Name | First | Second | Third | Fourth | Fifth | Sixth | Seventh | Eighth | Ninth | Tenth |\n",
    "|:---:|:---:|:---:|:---:|:---:|:---:|:---:|:---:|:---:|:---:|:---:|\n",
    "|uptoten|1|2|3|4|5|6|7|8|9|10|"
   ]
  },
  {
   "cell_type": "code",
   "execution_count": 24,
   "metadata": {},
   "outputs": [
    {
     "name": "stdout",
     "output_type": "stream",
     "text": [
      "[1, 2, 3, 4, 5, 6, 7, 8, 9, 10]\n"
     ]
    }
   ],
   "source": [
    "#For example, we may want to store the number 1 to 10 in a list.  We create a list as follows:\n",
    "\n",
    "uptoten = [1, 2, 3, 4, 5, 6, 7, 8, 9, 10]\n",
    "\n",
    "#We can print the list:\n",
    "print(uptoten)"
   ]
  },
  {
   "cell_type": "markdown",
   "metadata": {},
   "source": [
    "##### Counting in programming begins at 0\n",
    "\n",
    "Counting in programming begins at 0, not 1.  The first element in a list is indexed with the number 0, the second with 1, and so on.  Lists store many data points and we can access each with the appropriate index number.\n",
    "\n",
    "To access the first element of the array `uptoten` we type:\n",
    "\n",
    "`uptoten[0]`"
   ]
  },
  {
   "cell_type": "code",
   "execution_count": 25,
   "metadata": {},
   "outputs": [
    {
     "name": "stdout",
     "output_type": "stream",
     "text": [
      "The first element of uptoten is at index 0 and the value is: 1\n",
      "The second element of uptoten is at index 1 and the value is: 2\n"
     ]
    }
   ],
   "source": [
    "# Suppose we want to access the first item in the list.  We can access this by\n",
    "# referencing the name of the list and using square brackets and an index number\n",
    "\n",
    "print('The first element of uptoten is at index 0 and the value is:', uptoten[0])\n",
    "print('The second element of uptoten is at index 1 and the value is:', uptoten[1])"
   ]
  },
  {
   "cell_type": "code",
   "execution_count": 26,
   "metadata": {},
   "outputs": [
    {
     "name": "stdout",
     "output_type": "stream",
     "text": [
      "This is the list after appending the number 11: [1, 2, 3, 4, 5, 6, 7, 8, 9, 10, 11] \n",
      "\n"
     ]
    }
   ],
   "source": [
    "# We can add an element to a list using using the append method\n",
    "\n",
    "uptoten.append(11)\n",
    "print(\"This is the list after appending the number 11:\", uptoten, \"\\n\")"
   ]
  },
  {
   "cell_type": "code",
   "execution_count": 27,
   "metadata": {},
   "outputs": [
    {
     "name": "stdout",
     "output_type": "stream",
     "text": [
      "The removed element from the end of the list is: 11\n",
      "The list looks like it did before: [1, 2, 3, 4, 5, 6, 7, 8, 9, 10]\n"
     ]
    }
   ],
   "source": [
    "#remove the last element with the pop method and save it\n",
    "last_list_element=uptoten.pop()\n",
    "print(\"The removed element from the end of the list is:\", last_list_element)\n",
    "print(\"The list looks like it did before:\", uptoten)"
   ]
  },
  {
   "cell_type": "markdown",
   "metadata": {},
   "source": [
    "#### Dictionaries\n",
    "\n",
    "A list is indexed by an integer.  Many times this works well.  However, there are times when we want to use another index.  For example, we may want to use another identifier as a key (a number or string).  Python accommodates this with a `dictionary`, which is stores information in key-value pairs, similar to a database.  The following dictionary stores company tickers as the key and the industry as the value.  The key (ticker) must be unique, but the value stored in the dictionary (industry) does not.\n",
    "\n",
    "| Ticker (Key) | Industry (Value) |\n",
    "|:---:|:---:|\n",
    "|WMT|Retailer|\n",
    "|MSFT|Technology|\n",
    "|GOOG|Technology|\n",
    "|XOM|Oil and Gas|\n",
    "|COP|Oil and Gas|\n",
    "|TSLA|Automobiles|"
   ]
  },
  {
   "cell_type": "code",
   "execution_count": 28,
   "metadata": {},
   "outputs": [
    {
     "data": {
      "text/plain": [
       "{'WMT': 'Retailer',\n",
       " 'MSFT': 'Technology',\n",
       " 'GOOG': 'Technology',\n",
       " 'XOM': 'Oil and Gas',\n",
       " 'COP': 'Oil and Gas',\n",
       " 'TSLA': 'Automobiles'}"
      ]
     },
     "execution_count": 28,
     "metadata": {},
     "output_type": "execute_result"
    }
   ],
   "source": [
    "# We can create a dictionary as follows:\n",
    "companies = {\n",
    "    'WMT' : 'Retailer',\n",
    "    'MSFT' : 'Technology',\n",
    "    'GOOG' : 'Technology',\n",
    "    'XOM' : 'Oil and Gas',\n",
    "    'COP' : 'Oil and Gas',\n",
    "    'TSLA' : 'Automobiles',\n",
    "}\n",
    "\n",
    "# view the contents of the dictionary\n",
    "companies"
   ]
  },
  {
   "cell_type": "code",
   "execution_count": 29,
   "metadata": {
    "scrolled": true
   },
   "outputs": [
    {
     "name": "stdout",
     "output_type": "stream",
     "text": [
      "The industry of WMT is: Retailer\n"
     ]
    }
   ],
   "source": [
    "# We can retrieve a value from a key as follows\n",
    "companies['WMT']\n",
    "\n",
    "print('The industry of WMT is:', companies['WMT'])"
   ]
  },
  {
   "cell_type": "markdown",
   "metadata": {},
   "source": [
    "There are many other methods and things that can be done with lists and dictionaries.  The purpose here is to introduce these data structures so you are aware of them."
   ]
  },
  {
   "cell_type": "markdown",
   "metadata": {},
   "source": [
    "### 4.7 Other programming structures: `if-else` statements and `for` loops\n",
    "\n",
    "A common programming task is to analyze and compare data stored in variables, lists, and dictionaries with criteria.  This comparison then determines how the program proceeds and determines the output.  I will briefly introduce a few other programming concepts: logical operators, `if-else` statements, and `for` loops.  There are many others in addition that I will not cover.\n",
    "\n",
    "\n",
    "#### Logical Operators\n",
    "\n",
    "Before we can do logical comparisons, it is necessary to discuss the syntax in Python.\n",
    "- `==` is used to test for equality.  A single `=` is used to _assign_ a value, and the double `==` is for tests of equality.\n",
    "- `!=` or `<>` are used to test for not equal\n",
    "- `>`, `<`, `>=`, and `<=` are all used for inequalities as you would expect "
   ]
  },
  {
   "cell_type": "markdown",
   "metadata": {},
   "source": [
    "#### The `if-else` statement\n",
    "\n",
    "The most basic logical comparison is the if-else statement.  The following `if-else` statement compares the industry of WMT, obtained from `companies['WMT']` and based on the output executes the appropriate code:\n",
    "\n",
    "`if companies['WMT'] == \"Oil and Gas\":`\n",
    "\n",
    "<code>&nbsp;&nbsp;&nbsp;&nbsp;print(\"WMT is an oil and gas firm.\")</code>\n",
    "\n",
    "`else:`\n",
    "\n",
    "<code>&nbsp;&nbsp;&nbsp;&nbsp;print(\"WMT is not an oil and gas firm.\")</code>\n",
    "\n",
    "Python has strict indentation rules to operate correctly.  The initial `if` statement is left aligned, is followed by a logical test and then by a colon.  On the next line, code to be executed if the test is true is indented four (or more) spaces.  The `else` statement presented is optional and not indented and must have a colon.  Any command to be executed in the `else` condition is indented on the following line."
   ]
  },
  {
   "cell_type": "code",
   "execution_count": 30,
   "metadata": {},
   "outputs": [
    {
     "name": "stdout",
     "output_type": "stream",
     "text": [
      "WMT is NOT an oil and gas firm.\n"
     ]
    }
   ],
   "source": [
    "# use the if-else statement to classify WMT as an Oil and Gas firm, or NOT\n",
    "if companies[\"WMT\"] == \"Oil and Gas\":\n",
    "    print(\"WMT is an oil and gas firm.\")\n",
    "else:\n",
    "    print(\"WMT is NOT an oil and gas firm.\")"
   ]
  },
  {
   "cell_type": "markdown",
   "metadata": {},
   "source": [
    "##### Adding other conditions to the `if-else` statement with `elif`\n",
    "\n",
    "We may want to compare many different values.  We can do this with the `elif` syntax between the initial `if` statement and the `else` statement.  Adding to the preceding example, the following compares the industry of WMT:\n",
    "\n",
    "`if companies['WMT'] == \"Oil and Gas\":`\n",
    "\n",
    "<code>&nbsp;&nbsp;&nbsp;&nbsp;print(\"WMT is an oil and gas firm.\")</code>\n",
    "\n",
    "`elif companies['WMT'] == \"Retailer\":`\n",
    "\n",
    "<code>&nbsp;&nbsp;&nbsp;&nbsp;print(\"WMT is a retailer.\")</code>\n",
    "\n",
    "`else:`\n",
    "\n",
    "<code>&nbsp;&nbsp;&nbsp;&nbsp;print(\"WMT is not an oil and gas firm nor is it a retailer.\")</code>\n",
    "\n",
    "If we want to compare with another possible value, we can use the `elif` which means \"else if\", followed by a test and colon, and then code on the next line (or lines) indented four spaces.  Finally, we can put an `else` statement, alone on one line with a colon, followed by the code to be executed if no preceding tests evalute to `True`."
   ]
  },
  {
   "cell_type": "code",
   "execution_count": 31,
   "metadata": {},
   "outputs": [
    {
     "name": "stdout",
     "output_type": "stream",
     "text": [
      "WMT is a retailer.\n"
     ]
    }
   ],
   "source": [
    "# Add the elif command to check another condition\n",
    "if companies[\"WMT\"] == \"Oil and Gas\":\n",
    "    print(\"WMT is an oil and gas firm.\")\n",
    "elif companies[\"WMT\"] == \"Retailer\":\n",
    "    print(\"WMT is a retailer.\")\n",
    "else:\n",
    "    print (\"WMT is in another industry\")"
   ]
  },
  {
   "cell_type": "markdown",
   "metadata": {},
   "source": [
    "### For Loops\n",
    "\n",
    "Another common task is to loop through information in a list or dictionary and evaluate each stored item.  For example, suppose we want view the contents of the `companies` dictionary.  The for loop has simple syntax: `for comp in companies:`.  Here, `comp` is a variable name I chose to store each element extracted from `companies` (I can choose another variable name if I want).  Following that statement, code to be executed is indented four spaces and then the next element is evaluated."
   ]
  },
  {
   "cell_type": "code",
   "execution_count": 32,
   "metadata": {},
   "outputs": [
    {
     "name": "stdout",
     "output_type": "stream",
     "text": [
      "The company is: WMT\n",
      "    industry: Retailer\n",
      "The company is: MSFT\n",
      "    industry: Technology\n",
      "The company is: GOOG\n",
      "    industry: Technology\n",
      "The company is: XOM\n",
      "    industry: Oil and Gas\n",
      "The company is: COP\n",
      "    industry: Oil and Gas\n",
      "The company is: TSLA\n",
      "    industry: Automobiles\n"
     ]
    }
   ],
   "source": [
    "# The following iterates through the company tickers (dictionary keys) in the companies dictionary\n",
    "for comp in companies:\n",
    "    print('The company is:', comp)\n",
    "    print('    industry:', companies[comp]) # because comp stores the ticker as text, no quotes are needed in brackets"
   ]
  },
  {
   "cell_type": "markdown",
   "metadata": {},
   "source": [
    "Finally, let's combine the `for` loop and the `if-else` statement to print out only the pets with a value <= 3, the winners of the competition, whatever that was..."
   ]
  },
  {
   "cell_type": "code",
   "execution_count": 33,
   "metadata": {
    "scrolled": true
   },
   "outputs": [
    {
     "name": "stdout",
     "output_type": "stream",
     "text": [
      "Evaluating WMT\n",
      "     WMT is a retailer and you should SELL\n",
      "Evaluating MSFT\n",
      "     MSFT is NOT a retailer and you should BUY\n",
      "Evaluating GOOG\n",
      "     GOOG is NOT a retailer and you should BUY\n",
      "Evaluating XOM\n",
      "     XOM is NOT a retailer and you should BUY\n",
      "Evaluating COP\n",
      "     COP is NOT a retailer and you should BUY\n",
      "Evaluating TSLA\n",
      "     TSLA is NOT a retailer and you should BUY\n"
     ]
    }
   ],
   "source": [
    "for comp in companies:\n",
    "    print(\"Evaluating\", comp)\n",
    "    if companies[comp] == \"Retailer\":\n",
    "        print(\"    \",comp, \"is a retailer and you should SELL\")\n",
    "    else:\n",
    "        print(\"    \",comp, \"is NOT a retailer and you should BUY\")"
   ]
  },
  {
   "cell_type": "markdown",
   "metadata": {},
   "source": [
    "## 5. Using Markdown in Jupyter Notebook to Format Text\n",
    "When you want to write text in a nicely formatted manner in a Jupyter Notebook, you will use markdown.  You can set the content type of a cell to markdown by selecting the dropdown box and selecting Markdown, or before entering a cell (when it is blue) typing \"m\".  When entering a markdown cell, you will see the raw text that generates the formatted output.  Below I provide a brief introduction to using markdown in Jupyter Notebook.  Here is a [link to a more extensive markdown tutorial.](https://www.datacamp.com/community/tutorials/markdown-in-jupyter-notebook)"
   ]
  },
  {
   "cell_type": "markdown",
   "metadata": {},
   "source": [
    "### 5.1 Markdown for emphasizing text\n",
    "\n",
    "In a normal word processor, to format text, we can simply italicize, bold, or underline text by clicking the appropriate icon, or with commands `ctrl+i`, `ctrl+b`, or `ctrl+u`.  However, with Jupyter Notebook, there are no such icons or commands.  We must use syntax to indicate when we want something to be emphasized or formatted.\n",
    "\n",
    "For example, if we want to write __accounting rules!__ in bold font, we can type `__accounting rules!__`, using two underscores before and after the text we want to appear in bold font.  If we want to italicize _accounting rules!_, we can type `_accounting rules!_` with one underscore before and after.\n",
    "\n",
    "To create a bulleted list, we type a hyphen `-` at the beginning of a line followed by one or two spaces (or you can type an asterisk `*`)\n",
    "- accounting\n",
    "- rules!\n",
    "\n",
    "To create a numbered list, we type the number 1 followed by a period `1.` at the beginning of a line followed by one or two spaces.  Each subsequent item can either take the number `1.` again, a sequential number (or any number).\n",
    "\n",
    "1. accounting\n",
    "1589. rules!"
   ]
  },
  {
   "cell_type": "markdown",
   "metadata": {},
   "source": [
    "### 5.2 Using tags with markdown\n",
    "\n",
    "Some things can be done easily in markdown, such as bold, italics, bulleted lists, and numbered lists, as described above.  Other formatting, such as underlining text, requires the use of tags.  This is similar to HTML, which makes extensive use of tags to format and organize data.  To write <u>accounting rules!</u> underlined, I type `<u>accounting rules!</u>`.  The `<u>` is a beginning tag indicating the beginning of where we want text to be underlined and `</u>` is an ending tag indicating the end of underlined text.\n",
    "\n",
    "We can also use tags for <b>bold</b> font (the tags are `<b>` and `</b>`) and <i>italics</i> (the tags are `<i>` and `</i>`).  We can create bulleted or unordered lists (the tags are `<ul>` and `</ul>`), and numbered or ordered lists (the tags are `<ol>` and `</ol>`); list items are indicated with the tags `<li>` and `</li>` in both unordered and ordered lists.  However, the above method of using a hyphen `-` for bulleted lists or `1.` for ordered lists are much simpler. To illustrate, to create the bulleted list shown above with `accounting` as one item and `rules!` as another, we type the following:\n",
    "\n",
    "    <ul>\n",
    "        <li>accounting</li>\n",
    "        <li>rules!</li>\n",
    "    </ul>\n",
    "\n",
    "We can combine syntax.  For example, to write ___accounting rules!___ in bold and italics, we can type `___accounting rules!___` with three underscores before and after.  To add underlined text for ___<u>accounting rules!</u>___, we can add the underline tags as follows: `___<u>accounting rules!</u>___`.  Or we could use tags as follows: `<u><b><i>accounting rules!</i></b></u>`.  (I agree the options seem more confusing than helpful.)"
   ]
  },
  {
   "cell_type": "markdown",
   "metadata": {},
   "source": [
    "### 5.3 Tabs and tables in Markdown\n",
    "\n",
    "Suppose you want to indent text at the beginning of a line.  You can manually add four spaces, or press the tab button, which inserts four spaces. \n",
    "\n",
    "    You can use four spaces (three or fewer is displayed as one space); the font changes to a fixed-width font, which is good for code.\n",
    "    \n",
    "&emsp; Or you can type `&emsp;` before your text and the font stays the same, with indention.\n",
    "\n",
    "To add a table in Markdown you use a series of hyphens `-` and vertical pipes `|` as well as colons `:` to align text in cells (use `-:` for right alignment, `:-` for left alignment, and `:-:` for centered alignment).  The following table:\n",
    "\n",
    "\n",
    "|No. | Left Aligned Text  | Centered Text   | Right Aligned Text |\n",
    "|---:|:--------------|:----------:|------:        |\n",
    "| 1  | accounting    | rules      | still!        |\n",
    "| 2  | accounting    | still      | rules!        |\n",
    "\n",
    "can be produced with the following text:\n",
    "\n",
    "    |No.|Left Aligned Text|Centered Text|Right Aligned Text|\n",
    "    |-:|:-|:-:|-:|\n",
    "    |1|accounting|rules|still!|\n",
    "    |2|accounting|still|rules!|\n",
    "\n",
    "The first row of the table is the \"header\" and it must contain a value in each cell.  The second row contains the desired alignment, as described above.  Each cell left and right boundary is indicated with a vertical pipe `|`.  Formatting is fairly limited.  For example, tables are centered, and it is possible to left align them, but it is more difficult than it should be.\n",
    "\n",
    "Note that we can add extra whitespace and hyphens to make the raw text easier to read:\n",
    "\n",
    "    |No. | Left Aligned Text  | Centered Text   | Right Aligned Text |\n",
    "    |---:|:-------------------|:---------------:|-------------------:|\n",
    "    | 1  | accounting         |      rules      |              still!|\n",
    "    | 2  | accounting         |      still      |              rules!|\n",
    "    |No. | Left Aligned Text  |  Centered Text  |  Right Aligned Text|"
   ]
  },
  {
   "cell_type": "markdown",
   "metadata": {},
   "source": [
    "## Exercises\n",
    "\n",
    "Create a new Jupyter notebook and do the following.  You may need to search online to find function names or learn additional ways to work with lists and dictionaries:\n",
    "\n",
    "1.   Use Python as a calculator to find your age squared.  Save this as a variable named `age_squared`.\n",
    "1. Use Python as a calculator to find the square root of `age_squared` and save it as `age`.\n",
    "1. Use the `print` function to print out both variables on separate lines.\n",
    "1. Use the `print` function to print both variables in the same line with some additional text.\n",
    "1. Create a list of your family members named `myfamily` and print the third member of that list.\n",
    "1. Remove the last element of `myfamily` and store it in a variable named `caboose`.\n",
    "1. Figure out how to remove (`pop`) the second element of the family member list and store it in a variable named `voted_off_the_island`.\n",
    "1. Create a dictionary named `t_acct` for the chart of accounts of a company, which the accounts shown in key-value pairs at the end of the numbered exercises.\n",
    "1. Use a for loop to print the keys and values of `t_acct`.\n",
    "1. Figure out how to add data to the dictionary.  Add Revenues (use key 401) and COGS (use key 501) to the dictionary and print the updated dictionary.\n",
    "1. Figure out how to remove a record from a dictionary.  Remove the Notes Payable account and print the updated dictionary\n",
    "1. Use a `for` loop and an `if-else` statement to evaluate the key-value pairs in the `t_acct` dictionary and print out the accounts that are less than 200, and include in your output the key, the value, and a note that it is an asset.\n",
    "1. Use the `input` function to ask the user for their favorite color.  Compare what was entered with your favorite color, and if their favorite color is \"correct\" inform them of their excellent taste, otherwise inform them they should revise their preferences.\n",
    "<br>  \n",
    "__Data for the dictionary `t_acct` in the exercises above:__\n",
    "\n",
    "|Acct ID (Key) | Acct Name (Value)  |\n",
    "|---:|:--------------|\n",
    "| 101  | Cash    |\n",
    "| 102  | Accounts Receivable    |\n",
    "| 103  | Inventory    |\n",
    "| 201  | Accounts Payable    |\n",
    "| 202  | Notes Payable    |\n",
    "| 301  | Common Stock    |\n",
    "| 302  | Retained Earnings    |"
   ]
  }
 ],
 "metadata": {
  "kernelspec": {
   "display_name": "Python 3 (ipykernel)",
   "language": "python",
   "name": "python3"
  },
  "language_info": {
   "codemirror_mode": {
    "name": "ipython",
    "version": 3
   },
   "file_extension": ".py",
   "mimetype": "text/x-python",
   "name": "python",
   "nbconvert_exporter": "python",
   "pygments_lexer": "ipython3",
   "version": "3.11.5"
  }
 },
 "nbformat": 4,
 "nbformat_minor": 4
}
